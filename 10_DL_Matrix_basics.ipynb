{
  "nbformat": 4,
  "nbformat_minor": 0,
  "metadata": {
    "colab": {
      "provenance": [],
      "authorship_tag": "ABX9TyNaRF7qxJy6n4jAFcvOqk3w",
      "include_colab_link": true
    },
    "kernelspec": {
      "name": "python3",
      "display_name": "Python 3"
    },
    "language_info": {
      "name": "python"
    }
  },
  "cells": [
    {
      "cell_type": "markdown",
      "metadata": {
        "id": "view-in-github",
        "colab_type": "text"
      },
      "source": [
        "<a href=\"https://colab.research.google.com/github/rajsecrets01/Deep-Learning-Tensorflow-Keras/blob/main/10_DL_Matrix_basics.ipynb\" target=\"_parent\"><img src=\"https://colab.research.google.com/assets/colab-badge.svg\" alt=\"Open In Colab\"/></a>"
      ]
    },
    {
      "cell_type": "code",
      "execution_count": 1,
      "metadata": {
        "id": "nZ3LfyeEOUdu"
      },
      "outputs": [],
      "source": [
        "import numpy as np\n"
      ]
    },
    {
      "cell_type": "code",
      "source": [
        "revenue = np.array([[120,250,690],[160,186,150],[456,820,520]])\n",
        "expenses = np.array([[10,50,90],[60,86,50],[56,82,50]])"
      ],
      "metadata": {
        "id": "0FldCGhfOelY"
      },
      "execution_count": 2,
      "outputs": []
    },
    {
      "cell_type": "code",
      "source": [
        "profit = revenue - expenses"
      ],
      "metadata": {
        "id": "aWExdXmPPent"
      },
      "execution_count": 5,
      "outputs": []
    },
    {
      "cell_type": "code",
      "source": [
        "profit"
      ],
      "metadata": {
        "colab": {
          "base_uri": "https://localhost:8080/"
        },
        "id": "bDNHVvt7PjaR",
        "outputId": "a2bd4cd6-f984-417d-ef13-eb94ba11f66e"
      },
      "execution_count": 6,
      "outputs": [
        {
          "output_type": "execute_result",
          "data": {
            "text/plain": [
              "array([[110, 200, 600],\n",
              "       [100, 100, 100],\n",
              "       [400, 738, 470]])"
            ]
          },
          "metadata": {},
          "execution_count": 6
        }
      ]
    },
    {
      "cell_type": "code",
      "source": [],
      "metadata": {
        "id": "To003bo8PksG"
      },
      "execution_count": null,
      "outputs": []
    }
  ]
}