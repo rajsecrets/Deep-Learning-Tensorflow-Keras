{
  "nbformat": 4,
  "nbformat_minor": 0,
  "metadata": {
    "colab": {
      "provenance": [],
      "authorship_tag": "ABX9TyNmpHjii+KEiVjyZPSd15it",
      "include_colab_link": true
    },
    "kernelspec": {
      "name": "python3",
      "display_name": "Python 3"
    },
    "language_info": {
      "name": "python"
    }
  },
  "cells": [
    {
      "cell_type": "markdown",
      "metadata": {
        "id": "view-in-github",
        "colab_type": "text"
      },
      "source": [
        "<a href=\"https://colab.research.google.com/github/rajsecrets01/Deep-Learning-Tensorflow-Keras/blob/main/10_DL_Matrix_basics.ipynb\" target=\"_parent\"><img src=\"https://colab.research.google.com/assets/colab-badge.svg\" alt=\"Open In Colab\"/></a>"
      ]
    },
    {
      "cell_type": "code",
      "execution_count": 1,
      "metadata": {
        "id": "nZ3LfyeEOUdu"
      },
      "outputs": [],
      "source": [
        "import numpy as np\n"
      ]
    },
    {
      "cell_type": "code",
      "source": [
        "revenue = np.array([[120,250,690],[160,186,150],[456,820,520]])\n",
        "expenses = np.array([[10,50,90],[60,86,50],[56,82,50]])"
      ],
      "metadata": {
        "id": "0FldCGhfOelY"
      },
      "execution_count": 2,
      "outputs": []
    },
    {
      "cell_type": "code",
      "source": [
        "profit = revenue - expenses"
      ],
      "metadata": {
        "id": "aWExdXmPPent"
      },
      "execution_count": 5,
      "outputs": []
    },
    {
      "cell_type": "code",
      "source": [
        "profit"
      ],
      "metadata": {
        "colab": {
          "base_uri": "https://localhost:8080/"
        },
        "id": "bDNHVvt7PjaR",
        "outputId": "a2bd4cd6-f984-417d-ef13-eb94ba11f66e"
      },
      "execution_count": 6,
      "outputs": [
        {
          "output_type": "execute_result",
          "data": {
            "text/plain": [
              "array([[110, 200, 600],\n",
              "       [100, 100, 100],\n",
              "       [400, 738, 470]])"
            ]
          },
          "metadata": {},
          "execution_count": 6
        }
      ]
    },
    {
      "cell_type": "code",
      "source": [
        "price_per_unit = np.array([100,200,300])\n",
        "units = np.array([[100,200,300],[400,500,600],[800,900,880]])"
      ],
      "metadata": {
        "id": "To003bo8PksG"
      },
      "execution_count": 17,
      "outputs": []
    },
    {
      "cell_type": "code",
      "source": [
        "total = np.dot(price_per_unit ,units)\n",
        "total"
      ],
      "metadata": {
        "colab": {
          "base_uri": "https://localhost:8080/"
        },
        "id": "-eC6rNnxR2X8",
        "outputId": "20521fd9-bdbf-4f6b-fcf4-b7ae3f7cf36e"
      },
      "execution_count": 18,
      "outputs": [
        {
          "output_type": "execute_result",
          "data": {
            "text/plain": [
              "array([330000, 390000, 414000])"
            ]
          },
          "metadata": {},
          "execution_count": 18
        }
      ]
    },
    {
      "cell_type": "code",
      "source": [
        "total = np.dot(units,price_per_unit)\n",
        "total"
      ],
      "metadata": {
        "colab": {
          "base_uri": "https://localhost:8080/"
        },
        "id": "_JPZfdIxR98m",
        "outputId": "370ce114-a7de-4cbc-e26b-ffa28b7c7184"
      },
      "execution_count": 19,
      "outputs": [
        {
          "output_type": "execute_result",
          "data": {
            "text/plain": [
              "array([140000, 320000, 524000])"
            ]
          },
          "metadata": {},
          "execution_count": 19
        }
      ]
    },
    {
      "cell_type": "code",
      "source": [
        "\n"
      ],
      "metadata": {
        "id": "3FqPb6QpSEcl"
      },
      "execution_count": 20,
      "outputs": []
    },
    {
      "cell_type": "code",
      "source": [],
      "metadata": {
        "id": "qQpJLmuNS1Eu"
      },
      "execution_count": 20,
      "outputs": []
    },
    {
      "cell_type": "markdown",
      "source": [
        "EXERCISE"
      ],
      "metadata": {
        "id": "qcS_iOlhUjmz"
      }
    },
    {
      "cell_type": "markdown",
      "source": [
        "Below is some indian companies revenues in US dollars. Using numpy can you convert this into Indian rupees? 1 USD = 75 INR\n"
      ],
      "metadata": {
        "id": "VYSyXSKTUxYf"
      }
    },
    {
      "cell_type": "code",
      "source": [
        "mat01 = np.array([[200,220,250],[68,79,105],[110,140,180],[80,85,90]])\n",
        "mat01"
      ],
      "metadata": {
        "colab": {
          "base_uri": "https://localhost:8080/"
        },
        "id": "kCI7aXnfUmIx",
        "outputId": "02f8423d-14d0-4390-b77c-ed243f9eb679"
      },
      "execution_count": 23,
      "outputs": [
        {
          "output_type": "execute_result",
          "data": {
            "text/plain": [
              "array([[200, 220, 250],\n",
              "       [ 68,  79, 105],\n",
              "       [110, 140, 180],\n",
              "       [ 80,  85,  90]])"
            ]
          },
          "metadata": {},
          "execution_count": 23
        }
      ]
    },
    {
      "cell_type": "code",
      "source": [
        "mat01*75"
      ],
      "metadata": {
        "colab": {
          "base_uri": "https://localhost:8080/"
        },
        "id": "0CCibcAjW_AS",
        "outputId": "4cf6c3e2-f234-469d-f1ac-bdf0b02a4c3d"
      },
      "execution_count": 24,
      "outputs": [
        {
          "output_type": "execute_result",
          "data": {
            "text/plain": [
              "array([[15000, 16500, 18750],\n",
              "       [ 5100,  5925,  7875],\n",
              "       [ 8250, 10500, 13500],\n",
              "       [ 6000,  6375,  6750]])"
            ]
          },
          "metadata": {},
          "execution_count": 24
        }
      ]
    },
    {
      "cell_type": "markdown",
      "source": [
        "Divine flowers is a flower shop that sells different type of flowers. Below is the table showing how many flowers of each type they sold in different months. Also given are the prices of one flower each. Using this find out their total sales in every month.\n"
      ],
      "metadata": {
        "id": "7F4fXWPVXdrq"
      }
    },
    {
      "cell_type": "code",
      "source": [
        "jan = np.array([[50,60,25],[10,13,5],[40,70,52]])\n",
        "jan"
      ],
      "metadata": {
        "colab": {
          "base_uri": "https://localhost:8080/"
        },
        "id": "QmQ7vVShXYuM",
        "outputId": "3d4c8668-c4a1-43be-d34a-0497115fb3a2"
      },
      "execution_count": 27,
      "outputs": [
        {
          "output_type": "execute_result",
          "data": {
            "text/plain": [
              "array([[50, 60, 25],\n",
              "       [10, 13,  5],\n",
              "       [40, 70, 52]])"
            ]
          },
          "metadata": {},
          "execution_count": 27
        }
      ]
    },
    {
      "cell_type": "code",
      "source": [
        "units_sold = np.array([[50,60,25],[10,13,5],[40,70,52]])\n",
        "price_per_unit = np.array([20,30,15])\n",
        "np.dot(price_per_unit, units_sold)"
      ],
      "metadata": {
        "colab": {
          "base_uri": "https://localhost:8080/"
        },
        "id": "qrPzwu0wYkFu",
        "outputId": "5db98ad3-34a6-43b9-d4f4-b445d2110783"
      },
      "execution_count": 35,
      "outputs": [
        {
          "output_type": "execute_result",
          "data": {
            "text/plain": [
              "array([1900, 2640, 1430])"
            ]
          },
          "metadata": {},
          "execution_count": 35
        }
      ]
    },
    {
      "cell_type": "code",
      "source": [],
      "metadata": {
        "id": "jDGTqA2uY-Pz"
      },
      "execution_count": 35,
      "outputs": []
    },
    {
      "cell_type": "code",
      "source": [],
      "metadata": {
        "id": "ivAAuaBiZdCa"
      },
      "execution_count": 35,
      "outputs": []
    }
  ]
}